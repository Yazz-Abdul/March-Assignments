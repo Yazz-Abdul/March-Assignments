{
 "cells": [
  {
   "cell_type": "markdown",
   "metadata": {},
   "source": [
    "*Question One:* _List Comprehension_"
   ]
  },
  {
   "cell_type": "code",
   "execution_count": 1,
   "metadata": {},
   "outputs": [
    {
     "name": "stdout",
     "output_type": "stream",
     "text": [
      "[1, 9, 25, 49, 81, 121, 169, 225, 289, 361]\n"
     ]
    }
   ],
   "source": [
    "# Write a python program that outputs the squares of odd numbers from range of 1 to 20\n",
    "\n",
    "squares = [x*x for x in range(1,20) if x%2!=0] #fill the list squares with squares of odd numbers between 1 and 20\n",
    "\n",
    "print(squares) #prints the list squares"
   ]
  },
  {
   "cell_type": "markdown",
   "metadata": {},
   "source": [
    "*Question Two:* _Integers_"
   ]
  },
  {
   "cell_type": "code",
   "execution_count": 2,
   "metadata": {},
   "outputs": [
    {
     "name": "stdout",
     "output_type": "stream",
     "text": [
      "Enter a number: 25\n",
      "Number is a multiple of 5\n"
     ]
    }
   ],
   "source": [
    "# Write a program to check whether the given integer is a multiple of 5_\n",
    "number = int(input(\"Enter a number: \")) #Asks user for an integer input\n",
    "\n",
    "if number % 5 == 0: #check if the user input is divisible by 5\n",
    "    print(\"Number is a multiple of 5\") \n",
    "else:\n",
    "    print(\"Number is not a multiple 5\")"
   ]
  },
  {
   "cell_type": "markdown",
   "metadata": {},
   "source": [
    "*Question Three*: _If Statement_"
   ]
  },
  {
   "cell_type": "code",
   "execution_count": 7,
   "metadata": {},
   "outputs": [
    {
     "name": "stdout",
     "output_type": "stream",
     "text": [
      "ENTER A NUMBER: 5\n",
      "5 IS A PRIME NUMBER\n"
     ]
    }
   ],
   "source": [
    "# Write a program python program to check whether the given integer is a prime number or not\n",
    "\n",
    "number = int(input(\"ENTER A NUMBER: \"))#Asks user to input number\n",
    "\n",
    "if number > 1:\n",
    "    for x in range(2, number):#loop from 2 to input  number\n",
    "        if number%x == 0: # check if the value of x is divisible by input number\n",
    "            print(number, \"IS NOT A PRIME NUMBER\")\n",
    "            break # end the program\n",
    "    else: print(number, \"IS A PRIME NUMBER\")\n",
    "else: \n",
    "    print(number, \"IS NOT A PRIME NUMBER\")\n",
    "\n"
   ]
  },
  {
   "cell_type": "markdown",
   "metadata": {},
   "source": [
    "*Question Four:* _User-defined Functions_"
   ]
  },
  {
   "cell_type": "code",
   "execution_count": null,
   "metadata": {},
   "outputs": [
    {
     "name": "stdout",
     "output_type": "stream",
     "text": [
      "1. Add \n",
      "2. Subtract\n",
      "3. Multiply\n",
      "4. Divide\n"
     ]
    }
   ],
   "source": [
    "# Write a program to implement a calculator to do basic operations (+,-,*,/)\n",
    "\n",
    "#create a loop in the program\n",
    "while True:\n",
    "#Print calculator options for user to choose\n",
    "    print(\"1. Add \")      \n",
    "    print(\"2. Subtract\")\n",
    "    print(\"3. Multiply\")\n",
    "    print(\"4. Divide\")  \n",
    "#Ask user for input\n",
    "    Operation = int(input(\"Choose an operation: \"))\n",
    "\n",
    "    x = int(input(\"Enter the first number: \"))\n",
    "    y = int(input(\"Enter the second number: \"))\n",
    "#Check if user input is equal to 1\n",
    "    if Operation == 1:\n",
    "        def Add(a, b): # a function to add two integers\n",
    "            return a + b\n",
    "        z = Add(x,y)  \n",
    "        print(z)\n",
    "        print(\"WOULD YOU LIKE TO DO ANOTHER CALCULATION? ENTER 1 FOR YES OR 2 FOR NO\")\n",
    "    elif Operation == 2: #Check if user input is equal to 2\n",
    "        def minus(x, y):# a function to minus two integers\n",
    "            return x-y\n",
    "        z = minus(x,y)\n",
    "        print(z)\n",
    "        print(\"WOULD YOU LIKE TO DO ANOTHER CALCULATION? ENTER 1 FOR YES OR 2 FOR NO\")\n",
    "    elif Operation == 3: #Check if user input is equal to 3\n",
    "        def multiply(x,y):# a function to multiply two integers\n",
    "            return x*y\n",
    "        z = multiply(x,y)\n",
    "        print(z)\n",
    "        print(\"WOULD YOU LIKE TO DO ANOTHER CALCULATION? ENTER 1 FOR YES OR 2 FOR NO\")\n",
    "    elif Operation == 4: #Check if user input is equal to 4\n",
    "        def divide(x,y): # a function to multiply two integers\n",
    "            return x/y\n",
    "        z = divide(x,y)\n",
    "        print(z)\n",
    "        print(\"WOULD YOU LIKE TO DO ANOTHER CALCULATION? ENTER 1 FOR YES OR 2 FOR NO\")\n",
    "    else: print(\" INVALID OPERATOR!!!, WOULD YOU LIKE TO REPEAT THE OPERATION? ENTER 1 FOR YES OR 2 FOR NO\")\n",
    "    answer = int(input(\"ENTER RESPONSE: \"))\n",
    "    if answer == 2:# if the user input is equal to 2 then end the program otherwise loop through the program\n",
    "        break\n"
   ]
  },
  {
   "cell_type": "markdown",
   "metadata": {},
   "source": [
    "*Question Five:* _Dictionaries & For Loop_"
   ]
  },
  {
   "cell_type": "code",
   "execution_count": 8,
   "metadata": {},
   "outputs": [
    {
     "name": "stdout",
     "output_type": "stream",
     "text": [
      "{'Kenya': 'Nairobi', 'Uganda': 'Entebbe', 'Tanzania': 'Dodoma'}\n"
     ]
    }
   ],
   "source": [
    "# Create a simple dictionary and write a program to print all the items in your dictionary\n",
    "\n",
    "#simple dictionary\n",
    "#print all items in the dictionary\n",
    "Capital_city={\"Kenya\" : \"Nairobi\", \"Uganda\" : \"Entebbe\", \"Tanzania\": \"Dodoma\"}\n",
    "print(Capital_city)"
   ]
  },
  {
   "cell_type": "code",
   "execution_count": null,
   "metadata": {},
   "outputs": [],
   "source": []
  }
 ],
 "metadata": {
  "interpreter": {
   "hash": "1e4af7d8341c13d568efc1f8500c9e0239c4d10084c4659a417b8b188748b437"
  },
  "kernelspec": {
   "display_name": "Python 3 (ipykernel)",
   "language": "python",
   "name": "python3"
  },
  "language_info": {
   "codemirror_mode": {
    "name": "ipython",
    "version": 3
   },
   "file_extension": ".py",
   "mimetype": "text/x-python",
   "name": "python",
   "nbconvert_exporter": "python",
   "pygments_lexer": "ipython3",
   "version": "3.9.7"
  }
 },
 "nbformat": 4,
 "nbformat_minor": 2
}
